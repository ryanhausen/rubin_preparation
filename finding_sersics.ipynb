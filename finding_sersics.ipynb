{
 "cells": [
  {
   "cell_type": "code",
   "execution_count": 8,
   "id": "56d32430-a49c-44ad-aa52-e09d7bd331dd",
   "metadata": {},
   "outputs": [],
   "source": [
    "import numpy as np\n",
    "from PIL import Image\n",
    "from astropy import nddata\n",
    "from astropy.io import fits\n",
    "import matplotlib.pyplot as plt"
   ]
  },
  {
   "cell_type": "code",
   "execution_count": null,
   "id": "e149b3bc-9353-4aec-b32d-66f3b83e1f39",
   "metadata": {},
   "outputs": [],
   "source": [
    "# following these docs: https://docs.astropy.org/en/stable/api/astropy.nddata.Cutout2D.html\n",
    "# https://photutils.readthedocs.io/en/stable/segmentation.html following these helpful docs"
   ]
  },
  {
   "cell_type": "code",
   "execution_count": 9,
   "id": "b72c84cd-3082-4733-8bec-508799f200c3",
   "metadata": {},
   "outputs": [],
   "source": [
    "img = 'rsb_fits_images/test.fits'\n",
    "hdul = fits.open(img)\n",
    "\n",
    "# grabbing information necessary for sersic profile fit\n",
    "img_data = hdul[1].data # image\n",
    "mask_data = hdul[2].data # mask\n",
    "uncertainty_data = hdul[3].data # variance\n",
    "psf_data = hdul[8].data # warped psf\n",
    "\n",
    "\n",
    "# data -= bgmean\n",
    "# plt.hist(data.flatten(), bins=100, range=[-5,2200]);\n",
    "# plt.yscale('log');\n",
    "# data = fits.getdata(img)\n",
    "# header = fits.getheader(img)\n",
    "# bgvar = header['BGVAR']\n",
    "# bgmean = header['BGMEAN']\n",
    "# # plt.hist(data.flatten(), bins=100, range=[-5,2200]);\n",
    "# # plt.yscale('log');"
   ]
  },
  {
   "cell_type": "code",
   "execution_count": 10,
   "id": "2c671e3a-d353-486c-9a5b-b7ae0d155c5c",
   "metadata": {},
   "outputs": [],
   "source": [
    "from photutils.background import Background2D, MedianBackground\n",
    "bkg_estimator = MedianBackground()\n",
    "img_data = data\n",
    "bkg = Background2D(img_data, (50, 50), filter_size=(3, 3),\n",
    "                   bkg_estimator=bkg_estimator)\n",
    "img_data -= bkg.background"
   ]
  },
  {
   "cell_type": "code",
   "execution_count": 5,
   "id": "d8588ca8-b5ee-473e-bdb0-ba425504dc2c",
   "metadata": {},
   "outputs": [],
   "source": [
    "# plt.hist(img_data.flatten(), bins=100, range=[-1,1]);\n",
    "# very different... normalized to 1"
   ]
  },
  {
   "cell_type": "code",
   "execution_count": 12,
   "id": "28ec28b8-06f6-4f39-b278-6dcc2cd4aca7",
   "metadata": {},
   "outputs": [],
   "source": [
    "threshold = 1.9 * bkg.background_rms\n",
    "from astropy.convolution import convolve\n",
    "from photutils.segmentation import make_2dgaussian_kernel\n",
    "kernel = make_2dgaussian_kernel(3.0, size=5)  # FWHM = 3.0\n",
    "convolved_data = convolve(img_data, kernel)"
   ]
  },
  {
   "cell_type": "code",
   "execution_count": 7,
   "id": "fa8a5496-3bab-4388-b4dc-772cd49aa145",
   "metadata": {},
   "outputs": [],
   "source": [
    "# plt.hist(convolved_data.flatten(), bins=100, range=[-1,1]);"
   ]
  },
  {
   "cell_type": "code",
   "execution_count": 13,
   "id": "98c3d548-f508-4d48-ac77-251adf80f925",
   "metadata": {},
   "outputs": [
    {
     "name": "stdout",
     "output_type": "stream",
     "text": [
      "(4200, 4200)\n"
     ]
    }
   ],
   "source": [
    "from photutils.segmentation import detect_sources\n",
    "from matplotlib.colors import LogNorm\n",
    "\n",
    "segment_map = detect_sources(convolved_data, threshold, npixels=10)\n",
    "%matplotlib inline\n",
    "print(segment_map.shape)\n",
    "# plt.imshow(img_data, cmap='gray_r', norm=LogNorm(vmin=0.1, vmax=1),origin='lower')"
   ]
  },
  {
   "cell_type": "code",
   "execution_count": null,
   "id": "03311e84-080c-480a-8061-22d2cdd6154b",
   "metadata": {},
   "outputs": [],
   "source": [
    "# plt.imshow(segment_map, cmap='gray_r', norm=LogNorm(vmin=0.1, vmax=1), origin='lower')\n",
    "# seems to be an okay seg..."
   ]
  },
  {
   "cell_type": "code",
   "execution_count": 14,
   "id": "76f3f787-ef93-48d4-bb52-ca97715241fa",
   "metadata": {},
   "outputs": [],
   "source": [
    "import numpy as np\n",
    "import matplotlib.pyplot as plt\n",
    "from astropy.visualization import SqrtStretch\n",
    "from astropy.visualization.mpl_normalize import ImageNormalize\n",
    "norm = ImageNormalize(stretch=SqrtStretch())\n",
    "# fig, (ax1, ax2) = plt.subplots(2, 1, figsize=(10, 12.5))\n",
    "# ax1.imshow(data, origin='lower', cmap='Greys_r', norm=norm)\n",
    "# ax1.set_title('Background-subtracted Data')\n",
    "# ax2.imshow(segment_map, origin='lower', cmap=segment_map.cmap,\n",
    "#            interpolation='nearest')\n",
    "# ax2.set_title('Segmentation Image')"
   ]
  },
  {
   "cell_type": "code",
   "execution_count": 15,
   "id": "3a5080f2-8f54-4d44-bed7-74028601b05f",
   "metadata": {},
   "outputs": [],
   "source": [
    "# get bounding boxes of sources\n",
    "segment_map.remove_border_labels(10, partial_overlap=False, relabel=False)\n",
    "bbox = segment_map.bbox\n",
    "shortened_bbox = bbox[500:3500:30]"
   ]
  },
  {
   "cell_type": "code",
   "execution_count": 16,
   "id": "b17897a3-97b9-4777-90c7-f829ef02c83a",
   "metadata": {},
   "outputs": [],
   "source": [
    "# ixmin, ixmax, iymin, iymax\n",
    "cutouts = []\n",
    "for i in range(len(shortened_bbox)):\n",
    "    y_center, x_center = shortened_bbox[i].center\n",
    "    x_len,y_len = shortened_bbox[i].shape\n",
    "    min_length = 12\n",
    "    if (x_len> 10 and y_len > 10 and x_len < 40 and y_len < 40):\n",
    "        length = max([x_len, y_len, min_length]) * 1.25\n",
    "        my_cutout = nddata.Cutout2D(img_data, (x_center,y_center), int(length))\n",
    "        cutout_mask = nddata.Cutout2D(mask_data, (x_center,y_center), int(length))\n",
    "        cutout_var = nddata.Cutout2D(uncertainty_data, (x_center,y_center), int(length))\n",
    "        package = [my_cutout, cutout_mask, cutout_var]\n",
    "        cutouts.append(package)"
   ]
  },
  {
   "cell_type": "code",
   "execution_count": 17,
   "id": "e5aa9aaf-1916-410d-9e6c-d3545e402e93",
   "metadata": {},
   "outputs": [
    {
     "name": "stdout",
     "output_type": "stream",
     "text": [
      "Psf dimensions: (74,)\n",
      "Image dimensions: (21, 21)\n",
      "Var dimensions: (21, 21)\n",
      "Mask dimensions: (21, 21)\n",
      "Prior for a sersic source:\n",
      "--------------------------\n",
      "flux ---  Normal w/ mu = 0.00, sigma = nan\n",
      "xc ---  Normal w/ mu = nan, sigma = 1.00\n",
      "yc ---  Normal w/ mu = nan, sigma = 1.00\n",
      "r_eff ---  Truncated Normal w/ mu = nan, sigma = nan, between: 0.50 -> inf\n",
      "ellip ---  Uniform between: 0.00 -> 0.90\n",
      "theta ---  Custom prior of type: <class 'numpyro.distributions.directional.VonMises'>\n",
      "n ---  Uniform between: 0.65 -> 8.00\n",
      "\n",
      "Sky Type: none\n",
      "\n"
     ]
    },
    {
     "ename": "TypeError",
     "evalue": "Value '[(  5,   6,   7) ( 14,  15,  16) ( 23,  24,  25) ( 32,  33,  34)\n ( 41,  42,  43) ( 50,  51,  52) ( 59,  60,  61) ( 68,  69,  70)\n ( 77,  78,  79) ( 86,  87,  88) ( 95,  96,  97) (104, 105, 106)\n (113, 114, 115) (122, 123, 124) (131, 132, 133) (140, 141, 142)\n (149, 150, 151) (158, 159, 160) (167, 168, 169) (176, 177, 178)\n (185, 186, 187) (194, 195, 196) (203, 204, 205) (212, 213, 214)\n (221, 222, 223) (230, 231, 232) (239, 240, 241) (248, 249, 250)\n (257, 258, 259) (266, 267, 268) (275, 276, 277) (284, 285, 286)\n (293, 294, 295) (302, 303, 304) (311, 312, 313) (320, 321, 322)\n (329, 330, 331) (338, 339, 340) (347, 348, 349) (356, 357, 358)\n (365, 366, 367) (374, 375, 376) (383, 384, 385) (392, 393, 394)\n (401, 402, 403) (410, 411, 412) (419, 420, 421) (428, 429, 430)\n (437, 438, 439) (446, 447, 448) (455, 456, 457) (464, 465, 466)\n (473, 474, 475) (482, 483, 484) (491, 492, 493) (500, 501, 502)\n (509, 510, 511) (518, 519, 520) (527, 528, 529) (536, 537, 538)\n (545, 546, 547) (554, 555, 556) (563, 564, 565) (572, 573, 574)\n (581, 582, 583) (590, 591, 592) (599, 600, 601) (608, 609, 610)\n (617, 618, 619) (626, 627, 628) (635, 636, 637) (644, 645, 646)\n (653, 654, 655) (662, 663, 664)]' with dtype (numpy.record, [('psfIndex', '<i4'), ('transformIndex', '<i4'), ('controlIndex', '<i4')]) is not a valid JAX array type. Only arrays of numeric types are supported by JAX.",
     "output_type": "error",
     "traceback": [
      "\u001b[0;31m---------------------------------------------------------------------------\u001b[0m",
      "\u001b[0;31mTypeError\u001b[0m                                 Traceback (most recent call last)",
      "File \u001b[0;32m/cm/shared/apps/python/3.10.12/lib/python3.10/site-packages/jax/_src/numpy/lax_numpy.py:2130\u001b[0m, in \u001b[0;36marray\u001b[0;34m(object, dtype, copy, order, ndmin)\u001b[0m\n\u001b[1;32m   2129\u001b[0m \u001b[38;5;28;01mtry\u001b[39;00m:\n\u001b[0;32m-> 2130\u001b[0m   dtype \u001b[38;5;241m=\u001b[39m \u001b[43mdtypes\u001b[49m\u001b[38;5;241;43m.\u001b[39;49m\u001b[43m_lattice_result_type\u001b[49m\u001b[43m(\u001b[49m\u001b[38;5;241;43m*\u001b[39;49m\u001b[43mleaves\u001b[49m\u001b[43m)\u001b[49m[\u001b[38;5;241m0\u001b[39m] \u001b[38;5;28;01mif\u001b[39;00m leaves \u001b[38;5;28;01melse\u001b[39;00m dtypes\u001b[38;5;241m.\u001b[39mfloat_\n\u001b[1;32m   2131\u001b[0m \u001b[38;5;28;01mexcept\u001b[39;00m \u001b[38;5;167;01mTypeError\u001b[39;00m:\n\u001b[1;32m   2132\u001b[0m   \u001b[38;5;66;03m# This happens if, e.g. one of the entries is a memoryview object.\u001b[39;00m\n\u001b[1;32m   2133\u001b[0m   \u001b[38;5;66;03m# This is rare, so we only handle it if the normal path fails.\u001b[39;00m\n",
      "File \u001b[0;32m/cm/shared/apps/python/3.10.12/lib/python3.10/site-packages/jax/_src/dtypes.py:615\u001b[0m, in \u001b[0;36m_lattice_result_type\u001b[0;34m(*args)\u001b[0m\n\u001b[1;32m    614\u001b[0m \u001b[38;5;28;01mdef\u001b[39;00m \u001b[38;5;21m_lattice_result_type\u001b[39m(\u001b[38;5;241m*\u001b[39margs: Any) \u001b[38;5;241m-\u001b[39m\u001b[38;5;241m>\u001b[39m \u001b[38;5;28mtuple\u001b[39m[DType, \u001b[38;5;28mbool\u001b[39m]:\n\u001b[0;32m--> 615\u001b[0m   dtypes, weak_types \u001b[38;5;241m=\u001b[39m \u001b[38;5;28;43mzip\u001b[39;49m\u001b[43m(\u001b[49m\u001b[38;5;241;43m*\u001b[39;49m\u001b[43m(\u001b[49m\u001b[43m_dtype_and_weaktype\u001b[49m\u001b[43m(\u001b[49m\u001b[43marg\u001b[49m\u001b[43m)\u001b[49m\u001b[43m \u001b[49m\u001b[38;5;28;43;01mfor\u001b[39;49;00m\u001b[43m \u001b[49m\u001b[43marg\u001b[49m\u001b[43m \u001b[49m\u001b[38;5;129;43;01min\u001b[39;49;00m\u001b[43m \u001b[49m\u001b[43margs\u001b[49m\u001b[43m)\u001b[49m\u001b[43m)\u001b[49m\n\u001b[1;32m    616\u001b[0m   \u001b[38;5;28;01mif\u001b[39;00m \u001b[38;5;28mlen\u001b[39m(dtypes) \u001b[38;5;241m==\u001b[39m \u001b[38;5;241m1\u001b[39m:\n",
      "File \u001b[0;32m/cm/shared/apps/python/3.10.12/lib/python3.10/site-packages/jax/_src/dtypes.py:615\u001b[0m, in \u001b[0;36m<genexpr>\u001b[0;34m(.0)\u001b[0m\n\u001b[1;32m    614\u001b[0m \u001b[38;5;28;01mdef\u001b[39;00m \u001b[38;5;21m_lattice_result_type\u001b[39m(\u001b[38;5;241m*\u001b[39margs: Any) \u001b[38;5;241m-\u001b[39m\u001b[38;5;241m>\u001b[39m \u001b[38;5;28mtuple\u001b[39m[DType, \u001b[38;5;28mbool\u001b[39m]:\n\u001b[0;32m--> 615\u001b[0m   dtypes, weak_types \u001b[38;5;241m=\u001b[39m \u001b[38;5;28mzip\u001b[39m(\u001b[38;5;241m*\u001b[39m(\u001b[43m_dtype_and_weaktype\u001b[49m\u001b[43m(\u001b[49m\u001b[43marg\u001b[49m\u001b[43m)\u001b[49m \u001b[38;5;28;01mfor\u001b[39;00m arg \u001b[38;5;129;01min\u001b[39;00m args))\n\u001b[1;32m    616\u001b[0m   \u001b[38;5;28;01mif\u001b[39;00m \u001b[38;5;28mlen\u001b[39m(dtypes) \u001b[38;5;241m==\u001b[39m \u001b[38;5;241m1\u001b[39m:\n",
      "File \u001b[0;32m/cm/shared/apps/python/3.10.12/lib/python3.10/site-packages/jax/_src/dtypes.py:423\u001b[0m, in \u001b[0;36m_dtype_and_weaktype\u001b[0;34m(value)\u001b[0m\n\u001b[1;32m    422\u001b[0m \u001b[38;5;250m\u001b[39m\u001b[38;5;124;03m\"\"\"Return a (dtype, weak_type) tuple for the given input.\"\"\"\u001b[39;00m\n\u001b[0;32m--> 423\u001b[0m \u001b[38;5;28;01mreturn\u001b[39;00m \u001b[43mdtype\u001b[49m\u001b[43m(\u001b[49m\u001b[43mvalue\u001b[49m\u001b[43m)\u001b[49m, \u001b[38;5;28many\u001b[39m(value \u001b[38;5;129;01mis\u001b[39;00m typ \u001b[38;5;28;01mfor\u001b[39;00m typ \u001b[38;5;129;01min\u001b[39;00m _weak_types) \u001b[38;5;129;01mor\u001b[39;00m is_weakly_typed(value)\n",
      "File \u001b[0;32m/cm/shared/apps/python/3.10.12/lib/python3.10/site-packages/jax/_src/dtypes.py:609\u001b[0m, in \u001b[0;36mdtype\u001b[0;34m(x, canonicalize)\u001b[0m\n\u001b[1;32m    608\u001b[0m \u001b[38;5;28;01mif\u001b[39;00m dt \u001b[38;5;129;01mnot\u001b[39;00m \u001b[38;5;129;01min\u001b[39;00m _jax_dtype_set \u001b[38;5;129;01mand\u001b[39;00m \u001b[38;5;129;01mnot\u001b[39;00m issubdtype(dt, extended):\n\u001b[0;32m--> 609\u001b[0m   \u001b[38;5;28;01mraise\u001b[39;00m \u001b[38;5;167;01mTypeError\u001b[39;00m(\u001b[38;5;124mf\u001b[39m\u001b[38;5;124m\"\u001b[39m\u001b[38;5;124mValue \u001b[39m\u001b[38;5;124m'\u001b[39m\u001b[38;5;132;01m{\u001b[39;00mx\u001b[38;5;132;01m}\u001b[39;00m\u001b[38;5;124m'\u001b[39m\u001b[38;5;124m with dtype \u001b[39m\u001b[38;5;132;01m{\u001b[39;00mdt\u001b[38;5;132;01m}\u001b[39;00m\u001b[38;5;124m is not a valid JAX array \u001b[39m\u001b[38;5;124m\"\u001b[39m\n\u001b[1;32m    610\u001b[0m                   \u001b[38;5;124m\"\u001b[39m\u001b[38;5;124mtype. Only arrays of numeric types are supported by JAX.\u001b[39m\u001b[38;5;124m\"\u001b[39m)\n\u001b[1;32m    611\u001b[0m \u001b[38;5;66;03m# TODO(jakevdp): fix return type annotation and remove this ignore.\u001b[39;00m\n",
      "\u001b[0;31mTypeError\u001b[0m: Value '[(  5,   6,   7) ( 14,  15,  16) ( 23,  24,  25) ( 32,  33,  34)\n ( 41,  42,  43) ( 50,  51,  52) ( 59,  60,  61) ( 68,  69,  70)\n ( 77,  78,  79) ( 86,  87,  88) ( 95,  96,  97) (104, 105, 106)\n (113, 114, 115) (122, 123, 124) (131, 132, 133) (140, 141, 142)\n (149, 150, 151) (158, 159, 160) (167, 168, 169) (176, 177, 178)\n (185, 186, 187) (194, 195, 196) (203, 204, 205) (212, 213, 214)\n (221, 222, 223) (230, 231, 232) (239, 240, 241) (248, 249, 250)\n (257, 258, 259) (266, 267, 268) (275, 276, 277) (284, 285, 286)\n (293, 294, 295) (302, 303, 304) (311, 312, 313) (320, 321, 322)\n (329, 330, 331) (338, 339, 340) (347, 348, 349) (356, 357, 358)\n (365, 366, 367) (374, 375, 376) (383, 384, 385) (392, 393, 394)\n (401, 402, 403) (410, 411, 412) (419, 420, 421) (428, 429, 430)\n (437, 438, 439) (446, 447, 448) (455, 456, 457) (464, 465, 466)\n (473, 474, 475) (482, 483, 484) (491, 492, 493) (500, 501, 502)\n (509, 510, 511) (518, 519, 520) (527, 528, 529) (536, 537, 538)\n (545, 546, 547) (554, 555, 556) (563, 564, 565) (572, 573, 574)\n (581, 582, 583) (590, 591, 592) (599, 600, 601) (608, 609, 610)\n (617, 618, 619) (626, 627, 628) (635, 636, 637) (644, 645, 646)\n (653, 654, 655) (662, 663, 664)]' with dtype (numpy.record, [('psfIndex', '<i4'), ('transformIndex', '<i4'), ('controlIndex', '<i4')]) is not a valid JAX array type. Only arrays of numeric types are supported by JAX.",
      "\nDuring handling of the above exception, another exception occurred:\n",
      "\u001b[0;31mTypeError\u001b[0m                                 Traceback (most recent call last)",
      "Cell \u001b[0;32mIn[17], line 21\u001b[0m\n\u001b[1;32m     18\u001b[0m \u001b[38;5;28;01mfrom\u001b[39;00m \u001b[38;5;21;01mpysersic\u001b[39;00m \u001b[38;5;28;01mimport\u001b[39;00m FitSingle\n\u001b[1;32m     19\u001b[0m \u001b[38;5;28;01mfrom\u001b[39;00m \u001b[38;5;21;01mpysersic\u001b[39;00m\u001b[38;5;21;01m.\u001b[39;00m\u001b[38;5;21;01mloss\u001b[39;00m \u001b[38;5;28;01mimport\u001b[39;00m student_t_loss\n\u001b[0;32m---> 21\u001b[0m fitter \u001b[38;5;241m=\u001b[39m \u001b[43mFitSingle\u001b[49m\u001b[43m(\u001b[49m\u001b[43mdata\u001b[49m\u001b[38;5;241;43m=\u001b[39;49m\u001b[43mim\u001b[49m\u001b[38;5;241;43m.\u001b[39;49m\u001b[43mdata\u001b[49m\u001b[43m,\u001b[49m\u001b[43mrms\u001b[49m\u001b[38;5;241;43m=\u001b[39;49m\u001b[43msig\u001b[49m\u001b[38;5;241;43m.\u001b[39;49m\u001b[43mdata\u001b[49m\u001b[43m,\u001b[49m\u001b[43mmask\u001b[49m\u001b[38;5;241;43m=\u001b[39;49m\u001b[43mmask\u001b[49m\u001b[38;5;241;43m.\u001b[39;49m\u001b[43mdata\u001b[49m\u001b[43m,\u001b[49m\u001b[43mpsf\u001b[49m\u001b[38;5;241;43m=\u001b[39;49m\u001b[43mpsf\u001b[49m\u001b[43m,\u001b[49m\u001b[43mprior\u001b[49m\u001b[38;5;241;43m=\u001b[39;49m\u001b[43mprior\u001b[49m\u001b[43m,\u001b[49m\u001b[43mloss_func\u001b[49m\u001b[38;5;241;43m=\u001b[39;49m\u001b[43mstudent_t_loss\u001b[49m\u001b[43m)\u001b[49m\n",
      "File \u001b[0;32m~/.local/lib/python3.10/site-packages/pysersic/pysersic.py:326\u001b[0m, in \u001b[0;36mFitSingle.__init__\u001b[0;34m(self, data, rms, psf, prior, mask, loss_func, renderer, renderer_kwargs)\u001b[0m\n\u001b[1;32m    295\u001b[0m \u001b[38;5;28;01mdef\u001b[39;00m \u001b[38;5;21m__init__\u001b[39m(\u001b[38;5;28mself\u001b[39m,\n\u001b[1;32m    296\u001b[0m     data: ArrayLike,\n\u001b[1;32m    297\u001b[0m     rms: ArrayLike,\n\u001b[0;32m   (...)\u001b[0m\n\u001b[1;32m    302\u001b[0m     renderer: Optional[BaseRenderer] \u001b[38;5;241m=\u001b[39m  HybridRenderer, \n\u001b[1;32m    303\u001b[0m     renderer_kwargs: Optional[\u001b[38;5;28mdict\u001b[39m] \u001b[38;5;241m=\u001b[39m {}) \u001b[38;5;241m-\u001b[39m\u001b[38;5;241m>\u001b[39m \u001b[38;5;28;01mNone\u001b[39;00m:\n\u001b[1;32m    304\u001b[0m \u001b[38;5;250m    \u001b[39m\u001b[38;5;124;03m\"\"\"Initialze FitSingle class\u001b[39;00m\n\u001b[1;32m    305\u001b[0m \n\u001b[1;32m    306\u001b[0m \u001b[38;5;124;03m    Parameters\u001b[39;00m\n\u001b[0;32m   (...)\u001b[0m\n\u001b[1;32m    323\u001b[0m \u001b[38;5;124;03m        Any additional arguments to pass to the renderer, by default {}\u001b[39;00m\n\u001b[1;32m    324\u001b[0m \u001b[38;5;124;03m    \"\"\"\u001b[39;00m\n\u001b[0;32m--> 326\u001b[0m     \u001b[38;5;28;43msuper\u001b[39;49m\u001b[43m(\u001b[49m\u001b[43m)\u001b[49m\u001b[38;5;241;43m.\u001b[39;49m\u001b[38;5;21;43m__init__\u001b[39;49m\u001b[43m(\u001b[49m\u001b[43mdata\u001b[49m\u001b[43m,\u001b[49m\u001b[43mrms\u001b[49m\u001b[43m,\u001b[49m\u001b[43mpsf\u001b[49m\u001b[43m,\u001b[49m\u001b[43mloss_func\u001b[49m\u001b[43m \u001b[49m\u001b[38;5;241;43m=\u001b[39;49m\u001b[43m \u001b[49m\u001b[43mloss_func\u001b[49m\u001b[43m,\u001b[49m\u001b[43m \u001b[49m\u001b[43mmask\u001b[49m\u001b[43m \u001b[49m\u001b[38;5;241;43m=\u001b[39;49m\u001b[43m \u001b[49m\u001b[43mmask\u001b[49m\u001b[43m,\u001b[49m\u001b[43m \u001b[49m\u001b[43mrenderer\u001b[49m\u001b[43m \u001b[49m\u001b[38;5;241;43m=\u001b[39;49m\u001b[43m \u001b[49m\u001b[43mrenderer\u001b[49m\u001b[43m,\u001b[49m\u001b[43m \u001b[49m\u001b[43mrenderer_kwargs\u001b[49m\u001b[43m \u001b[49m\u001b[38;5;241;43m=\u001b[39;49m\u001b[43m \u001b[49m\u001b[43mrenderer_kwargs\u001b[49m\u001b[43m)\u001b[49m\n\u001b[1;32m    328\u001b[0m     \u001b[38;5;28;01mif\u001b[39;00m prior\u001b[38;5;241m.\u001b[39mprofile_type \u001b[38;5;129;01mnot\u001b[39;00m \u001b[38;5;129;01min\u001b[39;00m \u001b[38;5;28mself\u001b[39m\u001b[38;5;241m.\u001b[39mrenderer\u001b[38;5;241m.\u001b[39mprofile_types:\n\u001b[1;32m    329\u001b[0m         \u001b[38;5;28;01mraise\u001b[39;00m \u001b[38;5;167;01mAssertionError\u001b[39;00m(\u001b[38;5;124m'\u001b[39m\u001b[38;5;124mProfile must be one of:\u001b[39m\u001b[38;5;124m'\u001b[39m, \u001b[38;5;28mself\u001b[39m\u001b[38;5;241m.\u001b[39mrenderer\u001b[38;5;241m.\u001b[39mprofile_types)\n",
      "File \u001b[0;32m~/.local/lib/python3.10/site-packages/pysersic/pysersic.py:65\u001b[0m, in \u001b[0;36mBaseFitter.__init__\u001b[0;34m(self, data, rms, psf, mask, loss_func, renderer, renderer_kwargs)\u001b[0m\n\u001b[1;32m     63\u001b[0m \u001b[38;5;28mself\u001b[39m\u001b[38;5;241m.\u001b[39mdata \u001b[38;5;241m=\u001b[39m jnp\u001b[38;5;241m.\u001b[39marray(data) \n\u001b[1;32m     64\u001b[0m \u001b[38;5;28mself\u001b[39m\u001b[38;5;241m.\u001b[39mrms \u001b[38;5;241m=\u001b[39m jnp\u001b[38;5;241m.\u001b[39marray(rms)\n\u001b[0;32m---> 65\u001b[0m \u001b[38;5;28mself\u001b[39m\u001b[38;5;241m.\u001b[39mpsf \u001b[38;5;241m=\u001b[39m \u001b[43mjnp\u001b[49m\u001b[38;5;241;43m.\u001b[39;49m\u001b[43marray\u001b[49m\u001b[43m(\u001b[49m\u001b[43mpsf\u001b[49m\u001b[43m)\u001b[49m\n\u001b[1;32m     66\u001b[0m \u001b[38;5;28mself\u001b[39m\u001b[38;5;241m.\u001b[39mmask \u001b[38;5;241m=\u001b[39m parse_mask(mask,\u001b[38;5;28mself\u001b[39m\u001b[38;5;241m.\u001b[39mdata)\n\u001b[1;32m     67\u001b[0m data_isgood \u001b[38;5;241m=\u001b[39m check_input_data(\u001b[38;5;28mself\u001b[39m\u001b[38;5;241m.\u001b[39mdata,rms\u001b[38;5;241m=\u001b[39m\u001b[38;5;28mself\u001b[39m\u001b[38;5;241m.\u001b[39mrms,psf\u001b[38;5;241m=\u001b[39m\u001b[38;5;28mself\u001b[39m\u001b[38;5;241m.\u001b[39mpsf,mask\u001b[38;5;241m=\u001b[39mjnp\u001b[38;5;241m.\u001b[39mlogical_not(\u001b[38;5;28mself\u001b[39m\u001b[38;5;241m.\u001b[39mmask))\n",
      "File \u001b[0;32m/cm/shared/apps/python/3.10.12/lib/python3.10/site-packages/jax/_src/numpy/lax_numpy.py:2135\u001b[0m, in \u001b[0;36marray\u001b[0;34m(object, dtype, copy, order, ndmin)\u001b[0m\n\u001b[1;32m   2131\u001b[0m   \u001b[38;5;28;01mexcept\u001b[39;00m \u001b[38;5;167;01mTypeError\u001b[39;00m:\n\u001b[1;32m   2132\u001b[0m     \u001b[38;5;66;03m# This happens if, e.g. one of the entries is a memoryview object.\u001b[39;00m\n\u001b[1;32m   2133\u001b[0m     \u001b[38;5;66;03m# This is rare, so we only handle it if the normal path fails.\u001b[39;00m\n\u001b[1;32m   2134\u001b[0m     leaves \u001b[38;5;241m=\u001b[39m [_convert_to_array_if_dtype_fails(leaf) \u001b[38;5;28;01mfor\u001b[39;00m leaf \u001b[38;5;129;01min\u001b[39;00m leaves]\n\u001b[0;32m-> 2135\u001b[0m     dtype \u001b[38;5;241m=\u001b[39m \u001b[43mdtypes\u001b[49m\u001b[38;5;241;43m.\u001b[39;49m\u001b[43m_lattice_result_type\u001b[49m\u001b[43m(\u001b[49m\u001b[38;5;241;43m*\u001b[39;49m\u001b[43mleaves\u001b[49m\u001b[43m)\u001b[49m[\u001b[38;5;241m0\u001b[39m]\n\u001b[1;32m   2137\u001b[0m \u001b[38;5;28;01mif\u001b[39;00m \u001b[38;5;129;01mnot\u001b[39;00m weak_type:\n\u001b[1;32m   2138\u001b[0m   dtype \u001b[38;5;241m=\u001b[39m dtypes\u001b[38;5;241m.\u001b[39mcanonicalize_dtype(dtype, allow_extended_dtype\u001b[38;5;241m=\u001b[39m\u001b[38;5;28;01mTrue\u001b[39;00m)  \u001b[38;5;66;03m# type: ignore[assignment]\u001b[39;00m\n",
      "File \u001b[0;32m/cm/shared/apps/python/3.10.12/lib/python3.10/site-packages/jax/_src/dtypes.py:615\u001b[0m, in \u001b[0;36m_lattice_result_type\u001b[0;34m(*args)\u001b[0m\n\u001b[1;32m    614\u001b[0m \u001b[38;5;28;01mdef\u001b[39;00m \u001b[38;5;21m_lattice_result_type\u001b[39m(\u001b[38;5;241m*\u001b[39margs: Any) \u001b[38;5;241m-\u001b[39m\u001b[38;5;241m>\u001b[39m \u001b[38;5;28mtuple\u001b[39m[DType, \u001b[38;5;28mbool\u001b[39m]:\n\u001b[0;32m--> 615\u001b[0m   dtypes, weak_types \u001b[38;5;241m=\u001b[39m \u001b[38;5;28;43mzip\u001b[39;49m\u001b[43m(\u001b[49m\u001b[38;5;241;43m*\u001b[39;49m\u001b[43m(\u001b[49m\u001b[43m_dtype_and_weaktype\u001b[49m\u001b[43m(\u001b[49m\u001b[43marg\u001b[49m\u001b[43m)\u001b[49m\u001b[43m \u001b[49m\u001b[38;5;28;43;01mfor\u001b[39;49;00m\u001b[43m \u001b[49m\u001b[43marg\u001b[49m\u001b[43m \u001b[49m\u001b[38;5;129;43;01min\u001b[39;49;00m\u001b[43m \u001b[49m\u001b[43margs\u001b[49m\u001b[43m)\u001b[49m\u001b[43m)\u001b[49m\n\u001b[1;32m    616\u001b[0m   \u001b[38;5;28;01mif\u001b[39;00m \u001b[38;5;28mlen\u001b[39m(dtypes) \u001b[38;5;241m==\u001b[39m \u001b[38;5;241m1\u001b[39m:\n\u001b[1;32m    617\u001b[0m     out_dtype \u001b[38;5;241m=\u001b[39m dtypes[\u001b[38;5;241m0\u001b[39m]\n",
      "File \u001b[0;32m/cm/shared/apps/python/3.10.12/lib/python3.10/site-packages/jax/_src/dtypes.py:615\u001b[0m, in \u001b[0;36m<genexpr>\u001b[0;34m(.0)\u001b[0m\n\u001b[1;32m    614\u001b[0m \u001b[38;5;28;01mdef\u001b[39;00m \u001b[38;5;21m_lattice_result_type\u001b[39m(\u001b[38;5;241m*\u001b[39margs: Any) \u001b[38;5;241m-\u001b[39m\u001b[38;5;241m>\u001b[39m \u001b[38;5;28mtuple\u001b[39m[DType, \u001b[38;5;28mbool\u001b[39m]:\n\u001b[0;32m--> 615\u001b[0m   dtypes, weak_types \u001b[38;5;241m=\u001b[39m \u001b[38;5;28mzip\u001b[39m(\u001b[38;5;241m*\u001b[39m(\u001b[43m_dtype_and_weaktype\u001b[49m\u001b[43m(\u001b[49m\u001b[43marg\u001b[49m\u001b[43m)\u001b[49m \u001b[38;5;28;01mfor\u001b[39;00m arg \u001b[38;5;129;01min\u001b[39;00m args))\n\u001b[1;32m    616\u001b[0m   \u001b[38;5;28;01mif\u001b[39;00m \u001b[38;5;28mlen\u001b[39m(dtypes) \u001b[38;5;241m==\u001b[39m \u001b[38;5;241m1\u001b[39m:\n\u001b[1;32m    617\u001b[0m     out_dtype \u001b[38;5;241m=\u001b[39m dtypes[\u001b[38;5;241m0\u001b[39m]\n",
      "File \u001b[0;32m/cm/shared/apps/python/3.10.12/lib/python3.10/site-packages/jax/_src/dtypes.py:423\u001b[0m, in \u001b[0;36m_dtype_and_weaktype\u001b[0;34m(value)\u001b[0m\n\u001b[1;32m    421\u001b[0m \u001b[38;5;28;01mdef\u001b[39;00m \u001b[38;5;21m_dtype_and_weaktype\u001b[39m(value: Any) \u001b[38;5;241m-\u001b[39m\u001b[38;5;241m>\u001b[39m \u001b[38;5;28mtuple\u001b[39m[DType, \u001b[38;5;28mbool\u001b[39m]:\n\u001b[1;32m    422\u001b[0m \u001b[38;5;250m  \u001b[39m\u001b[38;5;124;03m\"\"\"Return a (dtype, weak_type) tuple for the given input.\"\"\"\u001b[39;00m\n\u001b[0;32m--> 423\u001b[0m   \u001b[38;5;28;01mreturn\u001b[39;00m \u001b[43mdtype\u001b[49m\u001b[43m(\u001b[49m\u001b[43mvalue\u001b[49m\u001b[43m)\u001b[49m, \u001b[38;5;28many\u001b[39m(value \u001b[38;5;129;01mis\u001b[39;00m typ \u001b[38;5;28;01mfor\u001b[39;00m typ \u001b[38;5;129;01min\u001b[39;00m _weak_types) \u001b[38;5;129;01mor\u001b[39;00m is_weakly_typed(value)\n",
      "File \u001b[0;32m/cm/shared/apps/python/3.10.12/lib/python3.10/site-packages/jax/_src/dtypes.py:609\u001b[0m, in \u001b[0;36mdtype\u001b[0;34m(x, canonicalize)\u001b[0m\n\u001b[1;32m    607\u001b[0m     \u001b[38;5;28;01mraise\u001b[39;00m \u001b[38;5;167;01mTypeError\u001b[39;00m(\u001b[38;5;124mf\u001b[39m\u001b[38;5;124m\"\u001b[39m\u001b[38;5;124mCannot determine dtype of \u001b[39m\u001b[38;5;132;01m{\u001b[39;00mx\u001b[38;5;132;01m}\u001b[39;00m\u001b[38;5;124m\"\u001b[39m) \u001b[38;5;28;01mfrom\u001b[39;00m \u001b[38;5;21;01merr\u001b[39;00m\n\u001b[1;32m    608\u001b[0m \u001b[38;5;28;01mif\u001b[39;00m dt \u001b[38;5;129;01mnot\u001b[39;00m \u001b[38;5;129;01min\u001b[39;00m _jax_dtype_set \u001b[38;5;129;01mand\u001b[39;00m \u001b[38;5;129;01mnot\u001b[39;00m issubdtype(dt, extended):\n\u001b[0;32m--> 609\u001b[0m   \u001b[38;5;28;01mraise\u001b[39;00m \u001b[38;5;167;01mTypeError\u001b[39;00m(\u001b[38;5;124mf\u001b[39m\u001b[38;5;124m\"\u001b[39m\u001b[38;5;124mValue \u001b[39m\u001b[38;5;124m'\u001b[39m\u001b[38;5;132;01m{\u001b[39;00mx\u001b[38;5;132;01m}\u001b[39;00m\u001b[38;5;124m'\u001b[39m\u001b[38;5;124m with dtype \u001b[39m\u001b[38;5;132;01m{\u001b[39;00mdt\u001b[38;5;132;01m}\u001b[39;00m\u001b[38;5;124m is not a valid JAX array \u001b[39m\u001b[38;5;124m\"\u001b[39m\n\u001b[1;32m    610\u001b[0m                   \u001b[38;5;124m\"\u001b[39m\u001b[38;5;124mtype. Only arrays of numeric types are supported by JAX.\u001b[39m\u001b[38;5;124m\"\u001b[39m)\n\u001b[1;32m    611\u001b[0m \u001b[38;5;66;03m# TODO(jakevdp): fix return type annotation and remove this ignore.\u001b[39;00m\n\u001b[1;32m    612\u001b[0m \u001b[38;5;28;01mreturn\u001b[39;00m canonicalize_dtype(dt, allow_extended_dtype\u001b[38;5;241m=\u001b[39m\u001b[38;5;28;01mTrue\u001b[39;00m) \u001b[38;5;28;01mif\u001b[39;00m canonicalize \u001b[38;5;28;01melse\u001b[39;00m dt\n",
      "\u001b[0;31mTypeError\u001b[0m: Value '[(  5,   6,   7) ( 14,  15,  16) ( 23,  24,  25) ( 32,  33,  34)\n ( 41,  42,  43) ( 50,  51,  52) ( 59,  60,  61) ( 68,  69,  70)\n ( 77,  78,  79) ( 86,  87,  88) ( 95,  96,  97) (104, 105, 106)\n (113, 114, 115) (122, 123, 124) (131, 132, 133) (140, 141, 142)\n (149, 150, 151) (158, 159, 160) (167, 168, 169) (176, 177, 178)\n (185, 186, 187) (194, 195, 196) (203, 204, 205) (212, 213, 214)\n (221, 222, 223) (230, 231, 232) (239, 240, 241) (248, 249, 250)\n (257, 258, 259) (266, 267, 268) (275, 276, 277) (284, 285, 286)\n (293, 294, 295) (302, 303, 304) (311, 312, 313) (320, 321, 322)\n (329, 330, 331) (338, 339, 340) (347, 348, 349) (356, 357, 358)\n (365, 366, 367) (374, 375, 376) (383, 384, 385) (392, 393, 394)\n (401, 402, 403) (410, 411, 412) (419, 420, 421) (428, 429, 430)\n (437, 438, 439) (446, 447, 448) (455, 456, 457) (464, 465, 466)\n (473, 474, 475) (482, 483, 484) (491, 492, 493) (500, 501, 502)\n (509, 510, 511) (518, 519, 520) (527, 528, 529) (536, 537, 538)\n (545, 546, 547) (554, 555, 556) (563, 564, 565) (572, 573, 574)\n (581, 582, 583) (590, 591, 592) (599, 600, 601) (608, 609, 610)\n (617, 618, 619) (626, 627, 628) (635, 636, 637) (644, 645, 646)\n (653, 654, 655) (662, 663, 664)]' with dtype (numpy.record, [('psfIndex', '<i4'), ('transformIndex', '<i4'), ('controlIndex', '<i4')]) is not a valid JAX array type. Only arrays of numeric types are supported by JAX."
     ]
    }
   ],
   "source": [
    "# PYSERSIC BEGINNINGS\n",
    "from pysersic import results\n",
    "from pysersic.priors import autoprior\n",
    "\n",
    "im,mask,sig = cutouts[0]\n",
    "psf = psf_data\n",
    "\n",
    "prior  = autoprior(image = im.data, profile_type = 'sersic', mask=mask.data, sky_type = 'none')\n",
    "\n",
    "\n",
    "# PRINTING SHAPES\n",
    "print(f\"Psf dimensions: {psf.shape}\")\n",
    "print(f\"Image dimensions: {im.shape}\")\n",
    "print(f\"Var dimensions: {sig.shape}\")\n",
    "print(f\"Mask dimensions: {mask.shape}\")\n",
    "print(prior)\n",
    "\n",
    "from pysersic import FitSingle\n",
    "from pysersic.loss import student_t_loss\n",
    "\n",
    "fitter = FitSingle(data=im.data,rms=sig.data,mask=mask.data,psf=psf,prior=prior,loss_func=student_t_loss)"
   ]
  },
  {
   "cell_type": "code",
   "execution_count": null,
   "id": "62a62196-cb4a-434c-8edf-cb4f68bf910b",
   "metadata": {},
   "outputs": [],
   "source": [
    "# for j in cutouts:\n",
    "#     fig, (ax1) = plt.subplots(1, 1, figsize=(4, 4))\n",
    "#     ax1.imshow(j.data, origin='lower', cmap='Greys_r')\n",
    "#     ax1.set_title('Attempt of cuttout image')\n",
    "\n",
    "# display just first image\n",
    "fig, (ax1) = plt.subplots(1, 1, figsize=(4, 4))\n",
    "ax1.imshow(cutouts[0].data, origin='lower', cmap='Greys_r')\n",
    "ax1.set_title('Attempt of cuttout image')"
   ]
  },
  {
   "cell_type": "code",
   "execution_count": null,
   "id": "51f63c54-4526-4c46-bd88-d75b9a77dddc",
   "metadata": {},
   "outputs": [],
   "source": [
    "# # pass to sersic\n",
    "# # find distribution of sources\n",
    "\n",
    "# # what does it mean to 'fit' an image?\n",
    "# # find a model and adjust its parameters until it is able to quite accurately represent the desired image\n",
    "\n",
    "# from astropy.modeling.models import Sersic2D\n",
    "# spherical_img = cutouts[0]\n",
    "\n",
    "# img_data = spherical_img.data\n",
    "\n",
    "# # Printing Initial Values\n",
    "# print(\"Initial Guesses\")\n",
    "# print(f\"Amplitude:            {np.max(img_data)}\")\n",
    "# print(f\"Half-light Radius :   1\")\n",
    "# print(f\"Sersic Index:         4\")\n",
    "# print(f\"Center:               {spherical_img.center_cutout}\")\n",
    "\n",
    "\n",
    "# # Model\n",
    "# print(f\"Shape of data before model fitting: {spherical_img.data.shape}\")\n",
    "\n",
    "# sersic_initial = Sersic2D(amplitude=np.max(img_data), r_eff=1, n=4, x_0=spherical_img.center_cutout[0],y_0=spherical_img.center_cutout[1], ellip=0.1, theta=0)\n",
    "\n",
    "# sersic_img = sersic_initial(img_data[0], img_data[1])\n",
    "# print(f\"Shape of data after model fitting?: {sersic_img.shape}\")\n",
    "# fig, ax = plt.subplots()\n",
    "# ax.imshow(spherical_img.data)\n",
    "# plt.show()"
   ]
  },
  {
   "cell_type": "code",
   "execution_count": null,
   "id": "ef54366c-a2a6-48c9-8236-7d18cae6e75f",
   "metadata": {},
   "outputs": [],
   "source": []
  }
 ],
 "metadata": {
  "kernelspec": {
   "display_name": "Python 3.10 via cpuq",
   "language": "python",
   "name": "cpuq-py310"
  },
  "language_info": {
   "codemirror_mode": {
    "name": "ipython",
    "version": 3
   },
   "file_extension": ".py",
   "mimetype": "text/x-python",
   "name": "python",
   "nbconvert_exporter": "python",
   "pygments_lexer": "ipython3",
   "version": "3.10.12"
  }
 },
 "nbformat": 4,
 "nbformat_minor": 5
}
